{
  "cells": [
    {
      "cell_type": "markdown",
      "metadata": {
        "id": "view-in-github",
        "colab_type": "text"
      },
      "source": [
        "<a href=\"https://colab.research.google.com/github/Srinivas44444/shadx/blob/main/Customer_Churn_Prediciton.ipynb\" target=\"_parent\"><img src=\"https://colab.research.google.com/assets/colab-badge.svg\" alt=\"Open In Colab\"/></a>"
      ]
    },
    {
      "cell_type": "code",
      "execution_count": null,
      "metadata": {
        "id": "DSvwRWUiNJjy"
      },
      "outputs": [],
      "source": [
        "import pandas as pd\n",
        "import seaborn as sns\n",
        "import matplotlib.pyplot as plt\n",
        "import numpy as np\n",
        "\n",
        "# ML Prediction Libraries\n",
        "from sklearn.pipeline import Pipeline\n",
        "from sklearn.preprocessing import RobustScaler, StandardScaler\n",
        "from sklearn.model_selection import train_test_split, cross_val_score\n",
        "from sklearn.linear_model import LogisticRegression\n",
        "from sklearn.ensemble import RandomForestClassifier, GradientBoostingClassifier, AdaBoostClassifier\n",
        "from sklearn.neighbors import KNeighborsClassifier\n",
        "from sklearn.svm import SVC\n",
        "from sklearn.metrics import accuracy_score, precision_score, recall_score, f1_score, confusion_matrix\n",
        "from imblearn.combine import SMOTETomek\n",
        "\n",
        "import warnings\n",
        "warnings.filterwarnings(\"ignore\")\n"
      ]
    },
    {
      "cell_type": "code",
      "execution_count": null,
      "metadata": {
        "colab": {
          "background_save": true,
          "base_uri": "https://localhost:8080/",
          "height": 38
        },
        "id": "19NLWOTwNMM8",
        "outputId": "7d114808-c2b5-464d-d705-0acb360417ef"
      },
      "outputs": [
        {
          "data": {
            "text/html": [
              "\n",
              "     <input type=\"file\" id=\"files-32cfcb25-14e7-4209-b4dc-d28c7a3d7379\" name=\"files[]\" multiple disabled\n",
              "        style=\"border:none\" />\n",
              "     <output id=\"result-32cfcb25-14e7-4209-b4dc-d28c7a3d7379\">\n",
              "      Upload widget is only available when the cell has been executed in the\n",
              "      current browser session. Please rerun this cell to enable.\n",
              "      </output>\n",
              "      <script>// Copyright 2017 Google LLC\n",
              "//\n",
              "// Licensed under the Apache License, Version 2.0 (the \"License\");\n",
              "// you may not use this file except in compliance with the License.\n",
              "// You may obtain a copy of the License at\n",
              "//\n",
              "//      http://www.apache.org/licenses/LICENSE-2.0\n",
              "//\n",
              "// Unless required by applicable law or agreed to in writing, software\n",
              "// distributed under the License is distributed on an \"AS IS\" BASIS,\n",
              "// WITHOUT WARRANTIES OR CONDITIONS OF ANY KIND, either express or implied.\n",
              "// See the License for the specific language governing permissions and\n",
              "// limitations under the License.\n",
              "\n",
              "/**\n",
              " * @fileoverview Helpers for google.colab Python module.\n",
              " */\n",
              "(function(scope) {\n",
              "function span(text, styleAttributes = {}) {\n",
              "  const element = document.createElement('span');\n",
              "  element.textContent = text;\n",
              "  for (const key of Object.keys(styleAttributes)) {\n",
              "    element.style[key] = styleAttributes[key];\n",
              "  }\n",
              "  return element;\n",
              "}\n",
              "\n",
              "// Max number of bytes which will be uploaded at a time.\n",
              "const MAX_PAYLOAD_SIZE = 100 * 1024;\n",
              "\n",
              "function _uploadFiles(inputId, outputId) {\n",
              "  const steps = uploadFilesStep(inputId, outputId);\n",
              "  const outputElement = document.getElementById(outputId);\n",
              "  // Cache steps on the outputElement to make it available for the next call\n",
              "  // to uploadFilesContinue from Python.\n",
              "  outputElement.steps = steps;\n",
              "\n",
              "  return _uploadFilesContinue(outputId);\n",
              "}\n",
              "\n",
              "// This is roughly an async generator (not supported in the browser yet),\n",
              "// where there are multiple asynchronous steps and the Python side is going\n",
              "// to poll for completion of each step.\n",
              "// This uses a Promise to block the python side on completion of each step,\n",
              "// then passes the result of the previous step as the input to the next step.\n",
              "function _uploadFilesContinue(outputId) {\n",
              "  const outputElement = document.getElementById(outputId);\n",
              "  const steps = outputElement.steps;\n",
              "\n",
              "  const next = steps.next(outputElement.lastPromiseValue);\n",
              "  return Promise.resolve(next.value.promise).then((value) => {\n",
              "    // Cache the last promise value to make it available to the next\n",
              "    // step of the generator.\n",
              "    outputElement.lastPromiseValue = value;\n",
              "    return next.value.response;\n",
              "  });\n",
              "}\n",
              "\n",
              "/**\n",
              " * Generator function which is called between each async step of the upload\n",
              " * process.\n",
              " * @param {string} inputId Element ID of the input file picker element.\n",
              " * @param {string} outputId Element ID of the output display.\n",
              " * @return {!Iterable<!Object>} Iterable of next steps.\n",
              " */\n",
              "function* uploadFilesStep(inputId, outputId) {\n",
              "  const inputElement = document.getElementById(inputId);\n",
              "  inputElement.disabled = false;\n",
              "\n",
              "  const outputElement = document.getElementById(outputId);\n",
              "  outputElement.innerHTML = '';\n",
              "\n",
              "  const pickedPromise = new Promise((resolve) => {\n",
              "    inputElement.addEventListener('change', (e) => {\n",
              "      resolve(e.target.files);\n",
              "    });\n",
              "  });\n",
              "\n",
              "  const cancel = document.createElement('button');\n",
              "  inputElement.parentElement.appendChild(cancel);\n",
              "  cancel.textContent = 'Cancel upload';\n",
              "  const cancelPromise = new Promise((resolve) => {\n",
              "    cancel.onclick = () => {\n",
              "      resolve(null);\n",
              "    };\n",
              "  });\n",
              "\n",
              "  // Wait for the user to pick the files.\n",
              "  const files = yield {\n",
              "    promise: Promise.race([pickedPromise, cancelPromise]),\n",
              "    response: {\n",
              "      action: 'starting',\n",
              "    }\n",
              "  };\n",
              "\n",
              "  cancel.remove();\n",
              "\n",
              "  // Disable the input element since further picks are not allowed.\n",
              "  inputElement.disabled = true;\n",
              "\n",
              "  if (!files) {\n",
              "    return {\n",
              "      response: {\n",
              "        action: 'complete',\n",
              "      }\n",
              "    };\n",
              "  }\n",
              "\n",
              "  for (const file of files) {\n",
              "    const li = document.createElement('li');\n",
              "    li.append(span(file.name, {fontWeight: 'bold'}));\n",
              "    li.append(span(\n",
              "        `(${file.type || 'n/a'}) - ${file.size} bytes, ` +\n",
              "        `last modified: ${\n",
              "            file.lastModifiedDate ? file.lastModifiedDate.toLocaleDateString() :\n",
              "                                    'n/a'} - `));\n",
              "    const percent = span('0% done');\n",
              "    li.appendChild(percent);\n",
              "\n",
              "    outputElement.appendChild(li);\n",
              "\n",
              "    const fileDataPromise = new Promise((resolve) => {\n",
              "      const reader = new FileReader();\n",
              "      reader.onload = (e) => {\n",
              "        resolve(e.target.result);\n",
              "      };\n",
              "      reader.readAsArrayBuffer(file);\n",
              "    });\n",
              "    // Wait for the data to be ready.\n",
              "    let fileData = yield {\n",
              "      promise: fileDataPromise,\n",
              "      response: {\n",
              "        action: 'continue',\n",
              "      }\n",
              "    };\n",
              "\n",
              "    // Use a chunked sending to avoid message size limits. See b/62115660.\n",
              "    let position = 0;\n",
              "    do {\n",
              "      const length = Math.min(fileData.byteLength - position, MAX_PAYLOAD_SIZE);\n",
              "      const chunk = new Uint8Array(fileData, position, length);\n",
              "      position += length;\n",
              "\n",
              "      const base64 = btoa(String.fromCharCode.apply(null, chunk));\n",
              "      yield {\n",
              "        response: {\n",
              "          action: 'append',\n",
              "          file: file.name,\n",
              "          data: base64,\n",
              "        },\n",
              "      };\n",
              "\n",
              "      let percentDone = fileData.byteLength === 0 ?\n",
              "          100 :\n",
              "          Math.round((position / fileData.byteLength) * 100);\n",
              "      percent.textContent = `${percentDone}% done`;\n",
              "\n",
              "    } while (position < fileData.byteLength);\n",
              "  }\n",
              "\n",
              "  // All done.\n",
              "  yield {\n",
              "    response: {\n",
              "      action: 'complete',\n",
              "    }\n",
              "  };\n",
              "}\n",
              "\n",
              "scope.google = scope.google || {};\n",
              "scope.google.colab = scope.google.colab || {};\n",
              "scope.google.colab._files = {\n",
              "  _uploadFiles,\n",
              "  _uploadFilesContinue,\n",
              "};\n",
              "})(self);\n",
              "</script> "
            ],
            "text/plain": [
              "<IPython.core.display.HTML object>"
            ]
          },
          "metadata": {},
          "output_type": "display_data"
        },
        {
          "ename": "TypeError",
          "evalue": "'NoneType' object is not subscriptable",
          "output_type": "error",
          "traceback": [
            "\u001b[0;31m---------------------------------------------------------------------------\u001b[0m",
            "\u001b[0;31mTypeError\u001b[0m                                 Traceback (most recent call last)",
            "\u001b[0;32m/tmp/ipython-input-2535520808.py\u001b[0m in \u001b[0;36m<cell line: 0>\u001b[0;34m()\u001b[0m\n\u001b[1;32m      1\u001b[0m \u001b[0;32mfrom\u001b[0m \u001b[0mgoogle\u001b[0m\u001b[0;34m.\u001b[0m\u001b[0mcolab\u001b[0m \u001b[0;32mimport\u001b[0m \u001b[0mfiles\u001b[0m\u001b[0;34m\u001b[0m\u001b[0;34m\u001b[0m\u001b[0m\n\u001b[0;32m----> 2\u001b[0;31m \u001b[0muploaded\u001b[0m \u001b[0;34m=\u001b[0m \u001b[0mfiles\u001b[0m\u001b[0;34m.\u001b[0m\u001b[0mupload\u001b[0m\u001b[0;34m(\u001b[0m\u001b[0;34m)\u001b[0m\u001b[0;34m\u001b[0m\u001b[0;34m\u001b[0m\u001b[0m\n\u001b[0m",
            "\u001b[0;32m/usr/local/lib/python3.12/dist-packages/google/colab/files.py\u001b[0m in \u001b[0;36mupload\u001b[0;34m(target_dir)\u001b[0m\n\u001b[1;32m     70\u001b[0m   \"\"\"\n\u001b[1;32m     71\u001b[0m \u001b[0;34m\u001b[0m\u001b[0m\n\u001b[0;32m---> 72\u001b[0;31m   \u001b[0muploaded_files\u001b[0m \u001b[0;34m=\u001b[0m \u001b[0m_upload_files\u001b[0m\u001b[0;34m(\u001b[0m\u001b[0mmultiple\u001b[0m\u001b[0;34m=\u001b[0m\u001b[0;32mTrue\u001b[0m\u001b[0;34m)\u001b[0m\u001b[0;34m\u001b[0m\u001b[0;34m\u001b[0m\u001b[0m\n\u001b[0m\u001b[1;32m     73\u001b[0m   \u001b[0;31m# Mapping from original filename to filename as saved locally.\u001b[0m\u001b[0;34m\u001b[0m\u001b[0;34m\u001b[0m\u001b[0m\n\u001b[1;32m     74\u001b[0m   \u001b[0mlocal_filenames\u001b[0m \u001b[0;34m=\u001b[0m \u001b[0mdict\u001b[0m\u001b[0;34m(\u001b[0m\u001b[0;34m)\u001b[0m\u001b[0;34m\u001b[0m\u001b[0;34m\u001b[0m\u001b[0m\n",
            "\u001b[0;32m/usr/local/lib/python3.12/dist-packages/google/colab/files.py\u001b[0m in \u001b[0;36m_upload_files\u001b[0;34m(multiple)\u001b[0m\n\u001b[1;32m    169\u001b[0m   \u001b[0mfiles\u001b[0m \u001b[0;34m=\u001b[0m \u001b[0m_collections\u001b[0m\u001b[0;34m.\u001b[0m\u001b[0mdefaultdict\u001b[0m\u001b[0;34m(\u001b[0m\u001b[0mbytes\u001b[0m\u001b[0;34m)\u001b[0m\u001b[0;34m\u001b[0m\u001b[0;34m\u001b[0m\u001b[0m\n\u001b[1;32m    170\u001b[0m \u001b[0;34m\u001b[0m\u001b[0m\n\u001b[0;32m--> 171\u001b[0;31m   \u001b[0;32mwhile\u001b[0m \u001b[0mresult\u001b[0m\u001b[0;34m[\u001b[0m\u001b[0;34m'action'\u001b[0m\u001b[0;34m]\u001b[0m \u001b[0;34m!=\u001b[0m \u001b[0;34m'complete'\u001b[0m\u001b[0;34m:\u001b[0m\u001b[0;34m\u001b[0m\u001b[0;34m\u001b[0m\u001b[0m\n\u001b[0m\u001b[1;32m    172\u001b[0m     result = _output.eval_js(\n\u001b[1;32m    173\u001b[0m         'google.colab._files._uploadFilesContinue(\"{output_id}\")'.format(\n",
            "\u001b[0;31mTypeError\u001b[0m: 'NoneType' object is not subscriptable"
          ]
        }
      ],
      "source": [
        "from google.colab import files\n",
        "uploaded = files.upload()"
      ]
    },
    {
      "cell_type": "code",
      "execution_count": null,
      "metadata": {
        "colab": {
          "background_save": true
        },
        "id": "Jbw2aIYSNgj1"
      },
      "outputs": [],
      "source": [
        "file_path = \"WA_Fn-UseC_-Telco-Customer-Churn.csv\"\n",
        "telco_data = pd.read_csv(file_path)\n",
        "\n",
        "print(telco_data.info())"
      ]
    },
    {
      "cell_type": "code",
      "execution_count": null,
      "metadata": {
        "colab": {
          "background_save": true
        },
        "id": "ktM57LpsNxJr"
      },
      "outputs": [],
      "source": [
        "object_columns = telco_data.select_dtypes(include=['object'])\n",
        "\n",
        "for col in object_columns.columns:\n",
        "    print(f\"{col} - {object_columns[col].nunique()} Unique Values\")\n",
        "    print(object_columns[col].unique())\n",
        "    print()\n",
        "\n",
        "# Convert Yes/No object columns to bool True/False\n",
        "cols_to_convert = ['Partner', 'Dependents', 'PhoneService', 'PaperlessBilling', 'Churn']\n",
        "\n",
        "for col in cols_to_convert:\n",
        "  telco_data[col] = telco_data[col].map({'Yes': True, 'No': False}).astype(bool)\n",
        "\n",
        "# Convert int 1/0 SeniorCitizen column to bool True/False\n",
        "telco_data['SeniorCitizen'] = telco_data['SeniorCitizen'].map({1: True, 0: False}).astype(bool)\n",
        "\n",
        "# Relocate Churn (column  of interest) to front of dataframe for clarity\n",
        "telco_data.insert(0, 'Churn', telco_data.pop('Churn'))\n",
        "\n",
        "# Remaining object columns\n",
        "object_columns = telco_data.select_dtypes(include=['object'])\n",
        "print(\"\\nRemaining object columns after boolean conversions:\")\n",
        "print(object_columns.columns)"
      ]
    },
    {
      "cell_type": "code",
      "execution_count": null,
      "metadata": {
        "colab": {
          "background_save": true
        },
        "id": "hq-dYoMxUYqp"
      },
      "outputs": [],
      "source": [
        "telco_data['TotalCharges'] = telco_data['TotalCharges'].replace(' ', '0').astype(float)\n",
        "\n",
        "print(telco_data['TotalCharges'].describe())"
      ]
    },
    {
      "cell_type": "code",
      "execution_count": null,
      "metadata": {
        "colab": {
          "background_save": true
        },
        "id": "8d6XUhtHUY2C"
      },
      "outputs": [],
      "source": [
        "object_columns = telco_data.select_dtypes(include=[\"object\"])\n",
        "object_columns = object_columns.drop(columns=\"customerID\")\n",
        "\n",
        "encoded_object_columns = pd.get_dummies(object_columns)\n",
        "encoded_telco_data = pd.concat([telco_data.drop(columns=object_columns), encoded_object_columns], axis=1)\n",
        "\n",
        "# Don't need customer IDs or Contract in encoded dataframe\n",
        "encoded_telco_data = encoded_telco_data.drop(columns=[\"customerID\"])"
      ]
    },
    {
      "cell_type": "code",
      "execution_count": null,
      "metadata": {
        "colab": {
          "background_save": true
        },
        "id": "Lhg590mSUY9g"
      },
      "outputs": [],
      "source": [
        "# Correlation matrix\n",
        "corr_mat = encoded_telco_data.corr()\n",
        "\n",
        "f, ax = plt.subplots(figsize=(10,10))\n",
        "sns.heatmap(corr_mat, cmap='coolwarm', square=True)\n",
        "plt.show()\n",
        "plt.clf()"
      ]
    },
    {
      "cell_type": "code",
      "execution_count": null,
      "metadata": {
        "colab": {
          "background_save": true
        },
        "id": "Q3w2AERnVAnC"
      },
      "outputs": [],
      "source": [
        "# Isolate features\n",
        "features_df = encoded_telco_data.drop(columns='Churn')\n",
        "\n",
        "# Creating dataframe containing the correlation of each feature with our target variable\n",
        "feature_target_corr = pd.DataFrame({'feature': features_df.columns, 'correlation': corr_mat['Churn'][1:]})\n",
        "feature_target_corr = feature_target_corr.sort_values(by='correlation')\n",
        "\n",
        "# Plot positive values in red and negative values in blue\n",
        "f, ax = plt.subplots(figsize=(12,6))\n",
        "sns.set_style(\"whitegrid\")\n",
        "sns.barplot(data=feature_target_corr,\n",
        "             x='feature',\n",
        "            y='correlation',\n",
        "            palette='coolwarm')\n",
        "\n",
        "plt.xticks(rotation=90)\n",
        "plt.xlabel('Feature')\n",
        "plt.ylabel('Correlation Strength')\n",
        "plt.title('Feature Correlation with Churn')\n",
        "plt.show()\n",
        "plt.clf()"
      ]
    },
    {
      "cell_type": "code",
      "execution_count": null,
      "metadata": {
        "colab": {
          "background_save": true
        },
        "id": "JOjxKeMAVEyC"
      },
      "outputs": [],
      "source": [
        "\n",
        "print(f\"Correlation between StreamingTV_No and StreamingMovies_No: \" + str(corr_mat[\"StreamingTV_No\"][\"StreamingMovies_No\"]))\n",
        "print(f\"Correlation between PaperlessBilling and MonthlyCharges: \" + str(corr_mat[\"PaperlessBilling\"][\"MonthlyCharges\"]))\n",
        "\n",
        "cols_to_drop = [col for col in encoded_telco_data if \"No internet service\" in col]\n",
        "encoded_telco_data = encoded_telco_data.drop(columns=cols_to_drop)"
      ]
    },
    {
      "cell_type": "code",
      "execution_count": null,
      "metadata": {
        "colab": {
          "background_save": true
        },
        "id": "YtmNGmScVJIL"
      },
      "outputs": [],
      "source": [
        "print(telco_data.info())"
      ]
    },
    {
      "cell_type": "code",
      "execution_count": null,
      "metadata": {
        "colab": {
          "background_save": true
        },
        "id": "u_sdNEiqVNDn"
      },
      "outputs": [],
      "source": [
        "telco_countplots = telco_data.copy()\n",
        "telco_countplots = telco_data.select_dtypes(exclude=[int, float])\n",
        "telco_countplots.drop(columns=[\"customerID\"], inplace=True)\n",
        "\n",
        "f, ax = plt.subplots(4, 5, figsize=(20, 16))\n",
        "ax = ax.flatten()\n",
        "\n",
        "for i, col in enumerate(telco_countplots.columns):\n",
        "    sns.countplot(data=telco_countplots, x=col, ax=ax[i])\n",
        "    ax[i].set_title(f'Count of {col} for All Customers')\n",
        "    ax[i].set_xlabel(col)\n",
        "    ax[i].set_ylabel('Count')\n",
        "\n",
        "    # Set and rotate x-axis labels\n",
        "    ax[i].tick_params(axis='x', rotation=30)\n",
        "\n",
        "# Hide empty subplots if the number of columns is less than 20\n",
        "for ax in ax[len(telco_countplots.columns):]:\n",
        "    ax.axis('off')\n",
        "\n",
        "plt.tight_layout()\n",
        "plt.show()\n",
        "plt.clf()"
      ]
    },
    {
      "cell_type": "code",
      "execution_count": null,
      "metadata": {
        "colab": {
          "background_save": true
        },
        "id": "coERpPLUXHUq"
      },
      "outputs": [],
      "source": [
        "telco_categorical = telco_data.select_dtypes(exclude=[int, float])\n",
        "telco_categorical.drop(columns=[\"customerID\"], inplace=True)\n",
        "\n",
        "churn_categorical = telco_categorical[telco_categorical[\"Churn\"] == True]\n",
        "no_churn_categorical = telco_categorical[telco_categorical[\"Churn\"] == False]\n",
        "\n",
        "f, ax = plt.subplots(4, 4, figsize=(16, 16))\n",
        "ax = ax.flatten()\n",
        "\n",
        "for i, col in enumerate(telco_categorical.drop(columns=\"Churn\").columns):\n",
        "    # Create temporary dataframe\n",
        "    telco_pct = pd.DataFrame()\n",
        "\n",
        "    # Percent distribution of each variable for a given column for non-churned customers\n",
        "    no_churn_pct = (100 * no_churn_categorical[col].value_counts()/no_churn_categorical.shape[0]).reset_index()\n",
        "    no_churn_pct.rename(columns={\"count\": \"Non-Churned\"}, inplace=True)\n",
        "    # Do the same for the subset of the population that have churned\n",
        "    churn_pct = (100 * churn_categorical[col].value_counts()/churn_categorical.shape[0]).reset_index()\n",
        "    churn_pct.rename(columns={\"count\": \"Churned\"}, inplace=True)\n",
        "\n",
        "    # Merge the two dataframes\n",
        "    telco_pct = pd.merge(no_churn_pct, churn_pct, on=col)\n",
        "\n",
        "    # Plot\n",
        "    telco_pct.plot.bar(x=col, ax=ax[i])\n",
        "    ax[i].set_title(f'Percent Distribution of {col}')\n",
        "    ax[i].set_ylabel('Percentage')\n",
        "\n",
        "    # Set and rotate x-axis labels\n",
        "    ax[i].tick_params(axis='x', rotation=30)\n",
        "\n",
        "plt.tight_layout()\n",
        "plt.show()\n",
        "plt.clf()"
      ]
    },
    {
      "cell_type": "code",
      "execution_count": null,
      "metadata": {
        "colab": {
          "background_save": true
        },
        "id": "CU9XUvlGXPTP"
      },
      "outputs": [],
      "source": [
        "print(telco_data.describe())"
      ]
    },
    {
      "cell_type": "code",
      "execution_count": null,
      "metadata": {
        "colab": {
          "background_save": true
        },
        "id": "I7BpgpfLXVAa"
      },
      "outputs": [],
      "source": [
        "telco_nums = telco_data.select_dtypes(include=[int, float])\n",
        "telco_nums[\"Churn\"] = telco_data[\"Churn\"]\n",
        "\n",
        "sns.pairplot(data=telco_nums, hue=\"Churn\", plot_kws={'alpha': 0.3})\n",
        "plt.show()\n",
        "plt.clf()\n"
      ]
    },
    {
      "cell_type": "code",
      "execution_count": null,
      "metadata": {
        "colab": {
          "background_save": true
        },
        "id": "uNuVCQr8XYkj"
      },
      "outputs": [],
      "source": [
        "telco_less_than_35 = telco_nums[telco_nums[\"MonthlyCharges\"] < 35]\n",
        "\n",
        "sns.pairplot(data=telco_less_than_35, hue=\"Churn\")\n",
        "plt.show()\n",
        "plt.clf()"
      ]
    },
    {
      "cell_type": "code",
      "execution_count": null,
      "metadata": {
        "colab": {
          "background_save": true
        },
        "id": "qcH4doviXdQ_"
      },
      "outputs": [],
      "source": [
        "print(\"Summary Statistics of Non-Churned Customers\")\n",
        "print(telco_nums[telco_nums[\"Churn\"] == False].describe())\n",
        "\n",
        "print(\"\\nSummary Statistics of Churned Customers\")\n",
        "print(telco_nums[telco_nums[\"Churn\"] == True].describe())"
      ]
    },
    {
      "cell_type": "code",
      "execution_count": null,
      "metadata": {
        "colab": {
          "background_save": true
        },
        "id": "rFIwuA_CXgUq"
      },
      "outputs": [],
      "source": [
        "f, ax = plt.subplots(1, 3, figsize=(12, 4))\n",
        "ax = ax.flatten()\n",
        "\n",
        "for i, col in enumerate(telco_nums.drop(columns=\"Churn\").columns):\n",
        "    sns.boxplot(data=telco_nums, x=col, y=np.array([\"\"]* len(telco_nums)), hue=\"Churn\", ax=ax[i])\n",
        "\n",
        "plt.tight_layout()\n",
        "plt.show()\n",
        "plt.clf()"
      ]
    },
    {
      "cell_type": "code",
      "execution_count": null,
      "metadata": {
        "colab": {
          "background_save": true
        },
        "id": "OkKd-I1oXjkv"
      },
      "outputs": [],
      "source": [
        "pip install optuna"
      ]
    },
    {
      "cell_type": "code",
      "execution_count": null,
      "metadata": {
        "colab": {
          "background_save": true
        },
        "id": "e5jrUX_WXpZY"
      },
      "outputs": [],
      "source": [
        "import optuna"
      ]
    },
    {
      "cell_type": "code",
      "execution_count": null,
      "metadata": {
        "colab": {
          "background_save": true
        },
        "id": "pFM5NSCOXtKw"
      },
      "outputs": [],
      "source": [
        "# Using a robust scaler to better handle outliers\n",
        "scaler = RobustScaler()\n",
        "numerical_features = encoded_telco_data.select_dtypes(include=[int, float])\n",
        "scaled_data = scaler.fit_transform(numerical_features)\n",
        "\n",
        "# Convert the scaled data back to a DataFrame\n",
        "scaled_df = pd.DataFrame(scaled_data, columns=numerical_features.columns)\n",
        "\n",
        "# Adding it back to the encoded features\n",
        "categorical_features = encoded_telco_data.select_dtypes(exclude=[int, float])\n",
        "encoded_df = categorical_features.join(scaled_df)\n",
        "#Split features and target column\n",
        "X_data = encoded_df.drop(columns=\"Churn\")\n",
        "y_data = encoded_df[\"Churn\"]\n",
        "\n",
        "classifier_names = [\"LogisticRegression\",\n",
        "                    \"RandomForestClassifier\",\n",
        "                    \"KNeighborsClassifier\",\n",
        "                    \"GradientBoostingClassifier\",\n",
        "                    \"SVC\",\n",
        "                    \"AdaBoostClassifier\"]\n",
        "\n",
        "# Optuna Hyperparameter Tuning\n",
        "\n",
        "# Define an objective function to be maximized\n",
        "def objective(trial):\n",
        "   # Suggest values for the hyperparameters using a trial object\n",
        "    classifier_name = trial.suggest_categorical(\"classifier\", classifier_names)\n",
        "\n",
        "    if classifier_name == \"LogisticRegression\":\n",
        "        lr_c = trial.suggest_float(\"lr_c\", 1e-2, 10, log=True)\n",
        "        classifier_obj = LogisticRegression(C=lr_c, max_iter=250)\n",
        "\n",
        "    elif classifier_name == \"RandomForestClassifier\":\n",
        "        rfc_max_depth = trial.suggest_int(\"rfc_max_depth\", 2, 32, log=True)\n",
        "        rfc_max_samples = trial.suggest_float(\"rfc_max_samples\", 0.2, 1)\n",
        "        classifier_obj = RandomForestClassifier(max_depth=rfc_max_depth, max_samples=rfc_max_samples, n_estimators=50)\n",
        "\n",
        "    elif classifier_name == \"KNeighborsClassifier\":\n",
        "        knc_n_neighbors = trial.suggest_int(\"knc_n_neighbors\", 3, 10)\n",
        "        classifier_obj = KNeighborsClassifier(n_neighbors=knc_n_neighbors)\n",
        "\n",
        "    elif classifier_name == \"GradientBoostingClassifier\":\n",
        "        gbc_learning_rate = trial.suggest_float(\"gbc_learning_rate\", 1e-4, 1, log=True)\n",
        "        classifier_obj = GradientBoostingClassifier(learning_rate=gbc_learning_rate)\n",
        "\n",
        "    elif classifier_name == \"SVC\":\n",
        "        svc_c = trial.suggest_float(\"svc_c\", 1e-2, 10, log=True)\n",
        "        classifier_obj = SVC(C=svc_c, gamma=\"auto\")\n",
        "\n",
        "    else:\n",
        "        abc_learning_rate = trial.suggest_float(\"abc_learning_rate\", 1e-4, 1, log=True)\n",
        "        classifier_obj = AdaBoostClassifier(learning_rate=abc_learning_rate)\n",
        "\n",
        "    f1_score = cross_val_score(classifier_obj, X_data, y_data, cv=5, scoring=\"f1\", n_jobs=-1).mean()\n",
        "\n",
        "    return f1_score\n",
        "    optuna.logging.set_verbosity(optuna.logging.WARNING)\n",
        "study = optuna.create_study(direction=\"maximize\")\n",
        "study.optimize(objective, n_trials=100)\n",
        "best_params = study.best_params\n",
        "best_f1 = study.best_value\n",
        "\n",
        "print(\"Best Hyperparameters:\", best_params)\n",
        "print(\"Best F1 Score:\", best_f1)"
      ]
    },
    {
      "cell_type": "code",
      "execution_count": null,
      "metadata": {
        "colab": {
          "background_save": true
        },
        "id": "dXxv2YdhXu2H"
      },
      "outputs": [],
      "source": [
        "def metric_report(y_true, y_pred):\n",
        "    confusion_mat = confusion_matrix(y_true, y_pred)\n",
        "    accuracy = round(accuracy_score(y_true, y_pred), 3)\n",
        "    precision = round(precision_score(y_true, y_pred), 3)\n",
        "    recall = round(recall_score(y_true, y_pred), 3)\n",
        "    f1 = round(f1_score(y_true, y_pred), 3)\n",
        "\n",
        "    print(\"Confusion Matrix\")\n",
        "    print(confusion_mat)\n",
        "    print(f\"\\nAccuracy: {accuracy}\\nPrecision: {precision}\\nRecall: {recall}\\nF1: {f1}\")\n",
        "\n",
        "# Train/test split\n",
        "X_train, X_test, y_train, y_test = train_test_split(X_data, y_data, test_size=0.2, random_state=42)\n",
        "\n",
        "lr = LogisticRegression(C=best_params[\"lr_c\"], max_iter=250)\n",
        "lr.fit(X_train, y_train)\n",
        "y_pred = lr.predict(X_test)\n",
        "\n",
        "metric_report(y_test, y_pred)"
      ]
    },
    {
      "cell_type": "code",
      "execution_count": null,
      "metadata": {
        "colab": {
          "background_save": true
        },
        "id": "0ieub8clZCJB"
      },
      "outputs": [],
      "source": [
        "# Resampling\n",
        "resample = SMOTETomek(random_state=42)\n",
        "X_res, y_res = resample.fit_resample(X_data, y_data)\n",
        "\n",
        "ax = sns.countplot(x=y_res)\n",
        "ax.bar_label(ax.containers[0])\n",
        "plt.show()\n",
        "plt.clf()"
      ]
    },
    {
      "cell_type": "code",
      "execution_count": null,
      "metadata": {
        "colab": {
          "background_save": true
        },
        "id": "YfjGFjz9ZClH"
      },
      "outputs": [],
      "source": [
        "classifier_names = [\"LogisticRegression\",\n",
        "                    \"RandomForestClassifier\",\n",
        "                    \"KNeighborsClassifier\",\n",
        "                    \"GradientBoostingClassifier\",\n",
        "                    \"SVC\",\n",
        "                    \"AdaBoostClassifier\"]\n",
        "\n",
        "# Optuna Hyperparameter Tuning\n",
        "\n",
        "# Define an objective function to be maximized\n",
        "def objective(trial):\n",
        "    # Suggest values for the hyperparameters using a trial object\n",
        "    classifier_name = trial.suggest_categorical(\"classifier\", classifier_names)\n",
        "\n",
        "    if classifier_name == \"LogisticRegression\":\n",
        "        lr_c = trial.suggest_float(\"lr_c\", 1e-2, 10, log=True)\n",
        "        model = LogisticRegression(C=lr_c, max_iter=500)\n",
        "\n",
        "    elif classifier_name == \"RandomForestClassifier\":\n",
        "        rfc_max_depth = trial.suggest_int(\"rfc_max_depth\", 2, 32, log=True)\n",
        "        rfc_max_samples = trial.suggest_float(\"rfc_max_samples\", 0.2, 1)\n",
        "        model = RandomForestClassifier(max_depth=rfc_max_depth, max_samples=rfc_max_samples, n_estimators=50)\n",
        "\n",
        "    elif classifier_name == \"KNeighborsClassifier\":\n",
        "        knc_n_neighbors = trial.suggest_int(\"knc_n_neighbors\", 3, 10)\n",
        "        model = KNeighborsClassifier(n_neighbors=knc_n_neighbors)\n",
        "\n",
        "    elif classifier_name == \"GradientBoostingClassifier\":\n",
        "        gbc_learning_rate = trial.suggest_float(\"gbc_learning_rate\", 1e-4, 1, log=True)\n",
        "        model = GradientBoostingClassifier(learning_rate=gbc_learning_rate)\n",
        "\n",
        "    elif classifier_name == \"SVC\":\n",
        "        svc_c = trial.suggest_float(\"svc_c\", 1e-2, 10, log=True)\n",
        "        model = SVC(C=svc_c, gamma=\"auto\")\n",
        "\n",
        "    else:\n",
        "        abc_learning_rate = trial.suggest_float(\"abc_learning_rate\", 1e-4, 1, log=True)\n",
        "        model = AdaBoostClassifier(learning_rate=abc_learning_rate)\n",
        "\n",
        "    model.fit(X_res, y_res)\n",
        "    y_pred = model.predict(X_data)\n",
        "\n",
        "    f1 = f1_score(y_data, y_pred)\n",
        "\n",
        "    return f1\n",
        "\n",
        "optuna.logging.set_verbosity(optuna.logging.WARNING)\n",
        "study = optuna.create_study(direction=\"maximize\")\n",
        "study.optimize(objective, n_trials=100)\n",
        "best_params = study.best_params\n",
        "best_f1 = study.best_value\n",
        "\n",
        "print(\"Best Hyperparameters:\", best_params)\n",
        "print(\"Best F1 Score:\", best_f1)"
      ]
    },
    {
      "cell_type": "code",
      "execution_count": null,
      "metadata": {
        "colab": {
          "background_save": true
        },
        "id": "R7BlFDdtM-iC"
      },
      "outputs": [],
      "source": [
        "rfc = RandomForestClassifier(max_depth=best_params[\"rfc_max_depth\"], max_samples=best_params[\"rfc_max_samples\"])\n",
        "# Training on resampled dataset\n",
        "rfc.fit(X_res, y_res)\n",
        "# Checking performance on orginal dataset\n",
        "y_pred = rfc.predict(X_data)\n",
        "\n",
        "metric_report(y_data, y_pred)"
      ]
    },
    {
      "cell_type": "code",
      "execution_count": null,
      "metadata": {
        "colab": {
          "background_save": true
        },
        "id": "a_gv-ozpPo69"
      },
      "outputs": [],
      "source": [
        "conf_mat = confusion_matrix(y_data, y_pred)\n",
        "\n",
        "# Plot confusion matrix\n",
        "plt.figure(figsize=(8, 6))\n",
        "sns.heatmap(conf_mat, annot=True, fmt='d', cmap='Blues', cbar=False,\n",
        "            xticklabels=['Non-Churned', 'Churned'],\n",
        "            yticklabels=['Non-Churned', 'Churned'])\n",
        "plt.xlabel('Predicted')\n",
        "plt.ylabel('Actual')\n",
        "plt.title('Confusion Matrix')\n",
        "plt.show()"
      ]
    }
  ],
  "metadata": {
    "colab": {
      "provenance": [],
      "toc_visible": true,
      "include_colab_link": true
    },
    "kernelspec": {
      "display_name": "Python 3",
      "name": "python3"
    },
    "language_info": {
      "name": "python"
    }
  },
  "nbformat": 4,
  "nbformat_minor": 0
}